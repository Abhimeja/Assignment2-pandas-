{
 "cells": [
  {
   "cell_type": "raw",
   "id": "8941bb7b-564a-4284-b986-90f92c282d96",
   "metadata": {},
   "source": [
    "Q1. List any five functions of the pandas library with execution.\n",
    "\n",
    "Ans--"
   ]
  },
  {
   "cell_type": "markdown",
   "id": "fdbbd4a1-8e5c-4c63-b19c-52157e794971",
   "metadata": {},
   "source": [
    "Here are five functions of the Pandas library along with their execution:\n",
    "\n",
    "1.'read_csv': This function is used to read data from a CSV file and create a DataFrame."
   ]
  },
  {
   "cell_type": "code",
   "execution_count": 6,
   "id": "d0c22e22-46e9-4cda-b15a-a2445cca1b52",
   "metadata": {},
   "outputs": [
    {
     "name": "stdout",
     "output_type": "stream",
     "text": [
      "  Rk         Player Pos Age   Tm   G  GS    MP   FG  FGA  ...   FT%  ORB  DRB  \\\n",
      "0  1     Quincy Acy  PF  24  NYK  68  22  1287  152  331  ...  .784   79  222   \n",
      "1  2   Jordan Adams  SG  20  MEM  30   0   248   35   86  ...  .609    9   19   \n",
      "2  3   Steven Adams   C  21  OKC  70  67  1771  217  399  ...  .502  199  324   \n",
      "3  4    Jeff Adrien  PF  28  MIN  17   0   215   19   44  ...  .579   23   54   \n",
      "4  5  Arron Afflalo  SG  29  TOT  78  72  2502  375  884  ...  .843   27  220   \n",
      "\n",
      "   TRB  AST STL BLK  TOV   PF   PTS  \n",
      "0  301   68  27  22   60  147   398  \n",
      "1   28   16  16   7   14   24    94  \n",
      "2  523   66  38  86   99  222   537  \n",
      "3   77   15   4   9    9   30    60  \n",
      "4  247  129  41   7  116  167  1035  \n",
      "\n",
      "[5 rows x 30 columns]\n"
     ]
    }
   ],
   "source": [
    "import pandas as pd\n",
    "\n",
    "# Read the CSV file and create a DataFrame\n",
    "data = pd.read_csv('players_data.csv')\n",
    "\n",
    "# Display the first few rows of the DataFrame\n",
    "print(data.head())\n"
   ]
  },
  {
   "cell_type": "markdown",
   "id": "ebea22c5-4325-48a7-b0cb-6d5264e6d127",
   "metadata": {},
   "source": [
    "2.'head': This function is used to display the first few rows of a DataFrame."
   ]
  },
  {
   "cell_type": "code",
   "execution_count": 7,
   "id": "d4f7856c-a9f3-48b2-a371-2b967506857e",
   "metadata": {},
   "outputs": [
    {
     "name": "stdout",
     "output_type": "stream",
     "text": [
      "    Name  Age\n",
      "0   Abhi   26\n",
      "1  Sagar   26\n"
     ]
    }
   ],
   "source": [
    "data=pd.DataFrame({'Name':['Abhi','Sagar','Himanshu','Rahul'],\n",
    "                   'Age':[26,26,25,24]\n",
    "})\n",
    "print(data.head(2))"
   ]
  },
  {
   "cell_type": "markdown",
   "id": "6b7d2aaf-bc6a-4148-96dd-7c7c228a6e3b",
   "metadata": {},
   "source": [
    "3.'info': This function provides a summary of the DataFrame, including the number of non-null values and data types of each column."
   ]
  },
  {
   "cell_type": "code",
   "execution_count": 8,
   "id": "8091a09f-41b6-4305-b663-52c11508ac35",
   "metadata": {},
   "outputs": [
    {
     "name": "stdout",
     "output_type": "stream",
     "text": [
      "<class 'pandas.core.frame.DataFrame'>\n",
      "RangeIndex: 4 entries, 0 to 3\n",
      "Data columns (total 2 columns):\n",
      " #   Column  Non-Null Count  Dtype \n",
      "---  ------  --------------  ----- \n",
      " 0   Name    4 non-null      object\n",
      " 1   Age     4 non-null      int64 \n",
      "dtypes: int64(1), object(1)\n",
      "memory usage: 192.0+ bytes\n",
      "None\n"
     ]
    }
   ],
   "source": [
    "print(data.info())"
   ]
  },
  {
   "cell_type": "markdown",
   "id": "ae5831b8-3d67-432a-b488-a0bace5bbbc4",
   "metadata": {},
   "source": [
    "4.'groupby': This function is used for grouping data based on one or more columns and performing aggregations."
   ]
  },
  {
   "cell_type": "code",
   "execution_count": 10,
   "id": "d7ef5006-e2cf-4557-8183-e340ba980ec8",
   "metadata": {},
   "outputs": [
    {
     "name": "stdout",
     "output_type": "stream",
     "text": [
      "Name\n",
      "Abhi        25000.0\n",
      "Himanshu    10000.0\n",
      "Rahul        5000.0\n",
      "Sagar       48000.0\n",
      "Name: Salary, dtype: float64\n"
     ]
    }
   ],
   "source": [
    "data=pd.DataFrame({'Name':['Abhi','Sagar','Himanshu','Rahul'],\n",
    "                   'Age':[26,26,25,24],\n",
    "                   'Salary':[25000,48000,10000,5000]\n",
    "})\n",
    "# Group the data by 'Name' and calculate the average salary\n",
    "grouped_data=data.groupby('Name')['Salary'].mean()\n",
    "print(grouped_data)"
   ]
  },
  {
   "cell_type": "markdown",
   "id": "882dcec6-8de6-4d0d-bfdd-c92135ad0bbd",
   "metadata": {},
   "source": [
    "5.'merge': This function is used to merge two DataFrames based on a common column."
   ]
  },
  {
   "cell_type": "code",
   "execution_count": 11,
   "id": "1b7441fa-77e0-4816-801b-605facdc3066",
   "metadata": {},
   "outputs": [
    {
     "name": "stdout",
     "output_type": "stream",
     "text": [
      "   ID   Name  Age\n",
      "0   2  Alice   25\n",
      "1   3    Bob   30\n"
     ]
    }
   ],
   "source": [
    "import pandas as pd\n",
    "\n",
    "# Create two DataFrames\n",
    "df1 = pd.DataFrame({'ID': [1, 2, 3],\n",
    "                    'Name': ['John', 'Alice', 'Bob']})\n",
    "\n",
    "df2 = pd.DataFrame({'ID': [2, 3, 4],\n",
    "                    'Age': [25, 30, 35]})\n",
    "\n",
    "# Merge the DataFrames based on the 'ID' column\n",
    "merged_data = pd.merge(df1, df2, on='ID')\n",
    "\n",
    "# Display the merged DataFrame\n",
    "print(merged_data)\n"
   ]
  },
  {
   "cell_type": "raw",
   "id": "d4beaef6-a8c5-413f-9d8e-98623f03dd6b",
   "metadata": {},
   "source": [
    "Q2. Given a Pandas DataFrame df with columns 'A', 'B', and 'C', write a Python function to re-index the\n",
    "DataFrame with a new index that starts from 1 and increments by 2 for each row.\n",
    "\n",
    "Ans--"
   ]
  },
  {
   "cell_type": "markdown",
   "id": "00c38687-b456-4a6c-b1e6-df53a3ebaf1f",
   "metadata": {},
   "source": [
    "Using the reset_index() method in Pandas along with some basic Python logic to generate the new index values. Here's a Python function that re-indexes the DataFrame as requested:"
   ]
  },
  {
   "cell_type": "code",
   "execution_count": 1,
   "id": "6e25359c-52a8-4e7d-b2ba-a4888b9631b9",
   "metadata": {},
   "outputs": [],
   "source": [
    "import pandas as pd\n",
    "\n",
    "def reindex_dataframe(df):\n",
    "    df = df.reset_index(drop=True)\n",
    "    df.index = df.index.map(lambda x: x * 2 + 1)\n",
    "    return df\n"
   ]
  },
  {
   "cell_type": "markdown",
   "id": "04bc3db4-e49b-46cb-b5a3-7cb26f8317fc",
   "metadata": {},
   "source": [
    "In this function, reset_index(drop=True) resets the existing index of the DataFrame, and index.map(lambda x: x * 2 + 1) assigns the new index values by multiplying the current index by 2 and adding 1 to each value.\n",
    "\n",
    "Here's an example usage of the function:"
   ]
  },
  {
   "cell_type": "code",
   "execution_count": 3,
   "id": "6a35651e-defa-43a2-ac6c-dbe1f2679576",
   "metadata": {},
   "outputs": [
    {
     "name": "stdout",
     "output_type": "stream",
     "text": [
      "   A  B  C\n",
      "1  1  4  7\n",
      "3  2  5  8\n",
      "5  3  6  9\n"
     ]
    }
   ],
   "source": [
    "# Sample DataFrame\n",
    "df = pd.DataFrame({'A': [1, 2, 3], 'B': [4, 5, 6], 'C': [7, 8, 9]})\n",
    "\n",
    "# Re-indexing the DataFrame\n",
    "df_reindexed = reindex_dataframe(df)\n",
    "\n",
    "print(df_reindexed)\n"
   ]
  },
  {
   "cell_type": "markdown",
   "id": "3f763526-809c-45d3-97e8-08d203eb8a1e",
   "metadata": {},
   "source": [
    "The DataFrame df_reindexed now has a new index starting from 1 and incrementing by 2 for each row."
   ]
  },
  {
   "cell_type": "raw",
   "id": "0555dc16-c01a-4774-885d-6412cb5d4cbd",
   "metadata": {},
   "source": [
    "Q3. You have a Pandas DataFrame df with a column named 'Values'. Write a Python function that\n",
    "iterates over the DataFrame and calculates the sum of the first three values in the 'Values' column. The\n",
    "function should print the sum to the console.\n",
    "\n",
    "For example, if the 'Values' column of df contains the values [10, 20, 30, 40, 50], your function should\n",
    "calculate and print the sum of the first three values, which is 60.\n",
    "\n",
    "Ans--"
   ]
  },
  {
   "cell_type": "markdown",
   "id": "e8e7ae17-573d-4d79-b947-72356aaf3dee",
   "metadata": {},
   "source": [
    "You can use the head method in Pandas to extract the first three values from the 'Values' column of the DataFrame and then calculate their sum using the sum method. Here's an example of a Python function that iterates over the DataFrame and calculates the sum of the first three values in the 'Values' column:\n"
   ]
  },
  {
   "cell_type": "code",
   "execution_count": 6,
   "id": "832f61e8-0fbc-424e-97fb-70e7af03836d",
   "metadata": {},
   "outputs": [],
   "source": [
    "import pandas as pd\n",
    "def calculate_sum(df):\n",
    "    values=df['Values'].head(3)\n",
    "    sum_of_values=values.sum()\n",
    "    print('Sum of first three values:',sum_of_values)"
   ]
  },
  {
   "cell_type": "markdown",
   "id": "b8f5c7f3-a65a-42ca-9d17-6d56c6f93353",
   "metadata": {},
   "source": [
    "In this function, df['Values'].head(3) retrieves the first three values from the 'Values' column of the DataFrame. Then, values.sum() calculates the sum of those three values.\n",
    "\n",
    "Here's an example usage of the function:"
   ]
  },
  {
   "cell_type": "code",
   "execution_count": 7,
   "id": "aec2f81d-2258-4fe3-9bec-e007722382b8",
   "metadata": {},
   "outputs": [
    {
     "name": "stdout",
     "output_type": "stream",
     "text": [
      "Sum of first three values: 60\n"
     ]
    }
   ],
   "source": [
    "#Sample dataframe\n",
    "df=pd.DataFrame({'Values':[10,20,30,40,50]})\n",
    "calculate_sum(df)"
   ]
  },
  {
   "cell_type": "raw",
   "id": "59b54241-c179-41a7-b6be-92d8515968fa",
   "metadata": {},
   "source": [
    "Q4. Given a Pandas DataFrame df with a column 'Text', write a Python function to create a new column\n",
    "'Word_Count' that contains the number of words in each row of the 'Text' column.\n",
    "\n",
    "Ans--"
   ]
  },
  {
   "cell_type": "markdown",
   "id": "1655ac7e-b30e-4583-bb99-c5cb0c78e832",
   "metadata": {},
   "source": [
    "To create a new column 'Word_Count' in a Pandas DataFrame that contains the number of words in each row of the 'Text' column, you can use the apply method along with a lambda function. Here's an example of a Python function that achieves this:"
   ]
  },
  {
   "cell_type": "code",
   "execution_count": 10,
   "id": "440dfa81-983f-4fca-a4f5-4ac27ab3cadd",
   "metadata": {},
   "outputs": [],
   "source": [
    "import pandas as pd\n",
    "def count_words(df):\n",
    "    df['Word_Count']=df['Text'].apply(lambda x:len(str(x).split()))\n",
    "    return df"
   ]
  },
  {
   "cell_type": "markdown",
   "id": "eeeae2f6-2763-4540-853e-c8926d02a942",
   "metadata": {},
   "source": [
    "In this function, df['Text'].apply(lambda x: len(str(x).split())) applies a lambda function to each element of the 'Text' column. The lambda function converts each element to a string (str(x)), splits it into words using the default whitespace delimiter (split()), and then calculates the length of the resulting list of words (len()).\n",
    "\n",
    "The new column 'Word_Count' is assigned the calculated word counts for each row using df['Word_Count'] = ....\n",
    "\n",
    "Here's an example usage of the function:"
   ]
  },
  {
   "cell_type": "code",
   "execution_count": 11,
   "id": "72eb5c83-ec2e-490c-9a88-f41efb2bedac",
   "metadata": {},
   "outputs": [
    {
     "name": "stdout",
     "output_type": "stream",
     "text": [
      "                          Text  Word_Count\n",
      "0                  Hello world           2\n",
      "1   My name is Abhishek Mishra           5\n",
      "2  PW skills course is amazing           5\n"
     ]
    }
   ],
   "source": [
    "df=pd.DataFrame({'Text':['Hello world','My name is Abhishek Mishra','PW skills course is amazing']})\n",
    "df_with_word_count=count_words(df)\n",
    "print(df_with_word_count)"
   ]
  },
  {
   "cell_type": "raw",
   "id": "3178dd7f-68fa-47dc-a3f0-eb9a0f12d844",
   "metadata": {},
   "source": [
    "Q5. How are DataFrame.size() and DataFrame.shape() different?\n",
    "\n",
    "Ans--"
   ]
  },
  {
   "cell_type": "markdown",
   "id": "6f882d7f-8281-4410-aadf-e1ed432aa0b2",
   "metadata": {},
   "source": [
    "DataFrame.size is an attribute in Pandas that returns the total number of elements in the DataFrame. It is calculated by multiplying the number of rows by the number of columns. In other words, DataFrame.size gives the total count of all cells or elements in the DataFrame.\n",
    "\n",
    "On the other hand, DataFrame.shape is also an attribute that returns a tuple representing the dimensions of the DataFrame. It provides two values: the number of rows and the number of columns in the DataFrame, respectively. The shape is expressed as (number_of_rows, number_of_columns).\n",
    "\n",
    "To summarize:\n",
    "\n",
    "DataFrame.size gives the total number of elements (cells) in the DataFrame.\n",
    "\n",
    "DataFrame.shape gives the dimensions of the DataFrame in terms of the number of rows and columns.\n",
    "\n",
    "Let's consider an example to illustrate the difference:"
   ]
  },
  {
   "cell_type": "code",
   "execution_count": 12,
   "id": "59a27ccd-5d73-4136-80e8-7e6bf60fb4f9",
   "metadata": {},
   "outputs": [
    {
     "name": "stdout",
     "output_type": "stream",
     "text": [
      "Dataframe size: 9\n",
      "Dataframe shape: (3, 3)\n"
     ]
    }
   ],
   "source": [
    "import pandas as pd\n",
    "df=pd.DataFrame({'A':[1,2,3],'B':[4,5,6],'C':[7,8,9]})\n",
    "print(\"Dataframe size:\",df.size)\n",
    "print(\"Dataframe shape:\",df.shape)"
   ]
  },
  {
   "cell_type": "markdown",
   "id": "10b20afa-58db-48ff-8197-1da3dd133e6a",
   "metadata": {},
   "source": [
    "The DataFrame df has 9 elements (cells) in total, so df.size returns 9. The shape of the DataFrame is (3, 3), indicating that it has 3 rows and 3 columns."
   ]
  },
  {
   "cell_type": "raw",
   "id": "cd38f9ba-2274-422b-b75d-8b4e034085b2",
   "metadata": {},
   "source": [
    "Q6. Which function of pandas do we use to read an excel file?\n",
    "\n",
    "Ans--"
   ]
  },
  {
   "cell_type": "markdown",
   "id": "7d644fd2-d8d9-4559-9fcc-e0cefb7cde0c",
   "metadata": {},
   "source": [
    "In Pandas, you can use the pd.read_excel() function to read an Excel file into a DataFrame. This function allows you to read data from an Excel file and store it in a tabular format in a Pandas DataFrame.\n",
    "\n",
    "Here's the basic syntax of pd.read_excel():\n",
    "\n",
    "import pandas as pd\n",
    "\n",
    "df = pd.read_excel('file_path.xlsx')\n",
    "\n",
    "In the above code, you need to replace 'file_path.xlsx' with the actual file path of the Excel file you want to read. If the Excel file is in the same directory as your Python script or notebook, you can simply provide the file name, like 'example.xlsx'. Otherwise, you need to specify the full file path.\n",
    "\n",
    "The pd.read_excel() function can handle various options and configurations, such as specifying the sheet name (if the Excel file contains multiple sheets), skipping rows or columns, setting the index, and more. You can explore the pandas documentation for additional parameters and details on how to use pd.read_excel() based on your specific requirements.\n"
   ]
  },
  {
   "cell_type": "raw",
   "id": "c6e4fe26-e7e7-4515-b1e6-a146fe4030c3",
   "metadata": {},
   "source": [
    "Q7. You have a Pandas DataFrame df that contains a column named 'Email' that contains email\n",
    "addresses in the format 'username@domain.com'. Write a Python function that creates a new column\n",
    "'Username' in df that contains only the username part of each email address.\n",
    "The username is the part of the email address that appears before the '@' symbol. For example, if the\n",
    "email address is 'john.doe@example.com', the 'Username' column should contain 'john.doe'. Your\n",
    "function should extract the username from each email address and store it in the new 'Username'\n",
    "column.\n",
    "\n",
    "Ans--"
   ]
  },
  {
   "cell_type": "markdown",
   "id": "f80a401d-1db5-457e-ad67-391fdec0569e",
   "metadata": {},
   "source": [
    "To extract the username part from email addresses in the 'Email' column of a Pandas DataFrame and store it in a new column 'Username', you can use the str.split() method along with the str.get() method. Here's an example of a Python function that achieves this:"
   ]
  },
  {
   "cell_type": "code",
   "execution_count": 13,
   "id": "c2687f6f-d9a0-4179-8b91-20e549eba029",
   "metadata": {},
   "outputs": [],
   "source": [
    "import pandas as pd\n",
    "def extract_username(df):\n",
    "    df['Username']=df['Email'].str.split('@').str.get(0)\n",
    "    return df"
   ]
  },
  {
   "cell_type": "markdown",
   "id": "90a8e24b-826c-4a2e-93e4-6b229d42db91",
   "metadata": {},
   "source": [
    "In this function, df['Email'].str.split('@') splits each email address in the 'Email' column by the '@' symbol, creating a list of two parts: the username and the domain. Then, str.get(0) extracts the first element (the username) from each list.\n",
    "\n",
    "The new column 'Username' is assigned the extracted usernames using df['Username'] = ....\n",
    "\n",
    "Here's an example usage of the function:"
   ]
  },
  {
   "cell_type": "code",
   "execution_count": 14,
   "id": "44af865b-8d58-4b9e-85e0-34925aeb3916",
   "metadata": {},
   "outputs": [
    {
     "name": "stdout",
     "output_type": "stream",
     "text": [
      "                    Email    Username\n",
      "0    john.doe@example.com    john.doe\n",
      "1  jane.smith@example.com  jane.smith\n"
     ]
    }
   ],
   "source": [
    "# Sample DataFrame\n",
    "df = pd.DataFrame({'Email': ['john.doe@example.com', 'jane.smith@example.com']})\n",
    "\n",
    "# Extracting usernames and creating the 'Username' column\n",
    "df_with_username = extract_username(df)\n",
    "\n",
    "print(df_with_username)"
   ]
  },
  {
   "cell_type": "raw",
   "id": "7240baf9-ae83-47b1-a258-ef2190fc38f3",
   "metadata": {},
   "source": [
    "Q8. You have a Pandas DataFrame df with columns 'A', 'B', and 'C'. Write a Python function that selects\n",
    "all rows where the value in column 'A' is greater than 5 and the value in column 'B' is less than 10. The\n",
    "function should return a new DataFrame that contains only the selected rows.\n",
    "For example, if df contains the following values:\n",
    "A B C\n",
    "0 3 5 1\n",
    "1 8 2 7\n",
    "2 6 9 4\n",
    "3 2 3 5\n",
    "4 9 1 2\n",
    "Your function should select the following rows: A B C\n",
    "1 8 2 7\n",
    "4 9 1 2\n",
    "The function should return a new DataFrame that contains only the selected rows.\n",
    "\n",
    "Ans--"
   ]
  },
  {
   "cell_type": "code",
   "execution_count": 20,
   "id": "70fc82dd-09a5-48f2-a3f9-67f40bc81c5c",
   "metadata": {},
   "outputs": [],
   "source": [
    "import pandas as pd\n",
    "def select_row(df):\n",
    "    selected_rows=df[(df['A']>5) & (df['B']<10)]\n",
    "    return selected_rows"
   ]
  },
  {
   "cell_type": "markdown",
   "id": "4235ad88-b47f-432b-a060-707db889b3c7",
   "metadata": {},
   "source": [
    "In this function, df[(df['A'] > 5) & (df['B'] < 10)] creates a boolean mask by checking two conditions: df['A'] > 5 and df['B'] < 10. The & operator is used to combine the conditions with the logical AND operation.\n",
    "\n",
    "The resulting boolean mask is used to select the rows from the original DataFrame where both conditions are True, creating a new DataFrame containing only the selected rows.\n",
    "\n",
    "Here's an example usage of the function with the provided sample DataFrame:"
   ]
  },
  {
   "cell_type": "code",
   "execution_count": 21,
   "id": "b80d15bb-9a0e-48e2-9474-7fb1ead93401",
   "metadata": {},
   "outputs": [
    {
     "name": "stdout",
     "output_type": "stream",
     "text": [
      "   A  B  C\n",
      "1  8  2  7\n",
      "2  6  9  4\n",
      "4  9  1  2\n"
     ]
    }
   ],
   "source": [
    "df=pd.DataFrame({'A':[3,8,6,2,9],'B':[5,2,9,3,1],'C':[1,7,4,5,2]})\n",
    "selected_df=select_row(df)\n",
    "print(selected_df)"
   ]
  },
  {
   "cell_type": "markdown",
   "id": "27d7f813-9c00-4d16-91ca-c98fe2a13bb0",
   "metadata": {},
   "source": [
    "The function selects the rows where the value in column 'A' is greater than 5 and the value in column 'B' is less than 10. The resulting DataFrame selected_df contains only the selected rows."
   ]
  },
  {
   "cell_type": "raw",
   "id": "b9e63925-31b7-4159-a4d4-9c7a84029f15",
   "metadata": {},
   "source": [
    "Q9. Given a Pandas DataFrame df with a column 'Values', write a Python function to calculate the mean,\n",
    "median, and standard deviation of the values in the 'Values' column.\n",
    "\n",
    "Ans--"
   ]
  },
  {
   "cell_type": "markdown",
   "id": "205ca8b4-35b1-4548-b69f-1cfd927fae86",
   "metadata": {},
   "source": [
    "To calculate the mean, median, and standard deviation of the values in the 'Values' column of a Pandas DataFrame, you can use the mean(), median(), and std() functions provided by Pandas. Here's an example of a Python function that calculates these statistics:"
   ]
  },
  {
   "cell_type": "code",
   "execution_count": 25,
   "id": "8ca0f0b8-e5ad-4125-8c66-1284380ad3a0",
   "metadata": {},
   "outputs": [],
   "source": [
    "import pandas as pd\n",
    "def calculate_statistics(df):\n",
    "    mean_value=df['Values'].mean()\n",
    "    median_value=df['Values'].median()\n",
    "    std_value=df['Values'].std()\n",
    "    return mean_value,median_value,std_value"
   ]
  },
  {
   "cell_type": "markdown",
   "id": "aa73e548-82ef-4ea1-8eea-da405c15b95b",
   "metadata": {},
   "source": [
    "In this function, df['Values'].mean() calculates the mean value of the 'Values' column, df['Values'].median() calculates the median value, and df['Values'].std() calculates the standard deviation.\n",
    "\n",
    "The calculated statistics are stored in separate variables (mean_value, median_value, and std_value).\n",
    "\n",
    "Here's an example usage of the function:"
   ]
  },
  {
   "cell_type": "code",
   "execution_count": 26,
   "id": "f2ebbd9a-c1f9-4a4a-a2cb-e902213965ed",
   "metadata": {},
   "outputs": [
    {
     "name": "stdout",
     "output_type": "stream",
     "text": [
      "Mean: 30.0\n",
      "Median: 30.0\n",
      "Standard Deviation: 15.811388300841896\n"
     ]
    }
   ],
   "source": [
    "# Sample DataFrame\n",
    "df = pd.DataFrame({'Values': [10, 20, 30, 40, 50]})\n",
    "\n",
    "# Calculating statistics\n",
    "mean, median, std = calculate_statistics(df)\n",
    "\n",
    "print(\"Mean:\", mean)\n",
    "print(\"Median:\", median)\n",
    "print(\"Standard Deviation:\", std)\n"
   ]
  },
  {
   "cell_type": "raw",
   "id": "e68e0acc-d0f8-4ac2-96da-182b494340fc",
   "metadata": {},
   "source": [
    "Q10. Given a Pandas DataFrame df with a column 'Sales' and a column 'Date', write a Python function to\n",
    "create a new column 'MovingAverage' that contains the moving average of the sales for the past 7 days\n",
    "for each row in the DataFrame. The moving average should be calculated using a window of size 7 and\n",
    "should include the current day.\n",
    "\n",
    "Ans--"
   ]
  },
  {
   "cell_type": "markdown",
   "id": "c2969973-0626-4993-a043-3b245fdbcbc5",
   "metadata": {},
   "source": [
    "To calculate the moving average of the 'Sales' column in a Pandas DataFrame over a window of 7 days, including the current day, you can use the rolling() function along with the mean() function. Here's an example of a Python function that creates a new column 'MovingAverage' with the desired calculation:"
   ]
  },
  {
   "cell_type": "code",
   "execution_count": 6,
   "id": "04942f54-5247-4a22-9f8d-4c17172e6ffb",
   "metadata": {},
   "outputs": [],
   "source": [
    "import pandas as pd\n",
    "def calculate_moving_average(df):\n",
    "    df['MovingAverage']=df['Sales'].rolling(window=7,min_periods=1).mean()\n",
    "    return df"
   ]
  },
  {
   "cell_type": "markdown",
   "id": "ddf5637e-65b6-4e45-b821-e49b1b19ecaa",
   "metadata": {},
   "source": [
    "In this function, df['Sales'].rolling(window=7, min_periods=1) creates a rolling window of size 7 on the 'Sales' column. The min_periods=1 argument ensures that the moving average calculation starts from the first day.\n",
    "\n",
    "The mean() function is then applied to the rolling window to calculate the average for each window.\n",
    "\n",
    "The new column 'MovingAverage' is assigned the calculated moving averages using df['MovingAverage'] = ....\n",
    "\n",
    "Here's an example usage of the function:"
   ]
  },
  {
   "cell_type": "code",
   "execution_count": 7,
   "id": "1b4ff95f-099e-40b8-831b-3d3e4bb6daaf",
   "metadata": {},
   "outputs": [
    {
     "name": "stdout",
     "output_type": "stream",
     "text": [
      "        Data  Sales  MovingAverage\n",
      "0 2023-07-03     10           10.0\n",
      "1 2023-07-04     20           15.0\n",
      "2 2023-07-05     30           20.0\n",
      "3 2023-07-06     40           25.0\n",
      "4 2023-07-07     50           30.0\n",
      "5 2023-07-08     60           35.0\n",
      "6 2023-07-09     70           40.0\n",
      "7 2023-07-10     80           50.0\n",
      "8 2023-07-11     90           60.0\n",
      "9 2023-07-12    100           70.0\n"
     ]
    }
   ],
   "source": [
    "#Sample DataFrame\n",
    "df=pd.DataFrame({'Data':pd.date_range(start='2023-07-03',periods=10),\n",
    "                 'Sales':[10,20,30,40,50,60,70,80,90,100]\n",
    "})\n",
    "#Caluclating the moving average\n",
    "df_with_moving_average=calculate_moving_average(df)\n",
    "print(df_with_moving_average)"
   ]
  },
  {
   "cell_type": "raw",
   "id": "0eda4479-eb7e-4e0b-a75d-19e3f8c277a7",
   "metadata": {},
   "source": [
    "Q11. You have a Pandas DataFrame df with a column 'Date'. Write a Python function that creates a new\n",
    "column 'Weekday' in the DataFrame. The 'Weekday' column should contain the weekday name (e.g.\n",
    "Monday, Tuesday) corresponding to each date in the 'Date' column.\n",
    "For example, if df contains the following values:\n",
    "Date\n",
    "0 2023-01-01\n",
    "1 2023-01-02\n",
    "2 2023-01-03\n",
    "3 2023-01-04\n",
    "4 2023-01-05\n",
    "Your function should create the following DataFrame:\n",
    "\n",
    "Date Weekday\n",
    "0 2023-01-01 Sunday\n",
    "1 2023-01-02 Monday\n",
    "2 2023-01-03 Tuesday\n",
    "3 2023-01-04 Wednesday\n",
    "4 2023-01-05 Thursday\n",
    "The function should return the modified DataFrame.\n",
    "\n",
    "Ans--"
   ]
  },
  {
   "cell_type": "markdown",
   "id": "34b4d8f0-38c3-4357-8d6b-440babc41a33",
   "metadata": {},
   "source": [
    "To create a new column 'Weekday' in a Pandas DataFrame that contains the weekday names corresponding to the dates in the 'Date' column, you can use the dt accessor and the strftime() method. Here's an example of a Python function that achieves this:"
   ]
  },
  {
   "cell_type": "code",
   "execution_count": 9,
   "id": "63236411-c974-47c9-9a0e-161c260ae6cb",
   "metadata": {},
   "outputs": [],
   "source": [
    "import pandas as pd\n",
    "def add_weekday_column(df):\n",
    "    df['Weekday']=df['Date'].dt.strftime('%A')\n",
    "    return df"
   ]
  },
  {
   "cell_type": "markdown",
   "id": "7b6db35a-e6c5-4241-a28f-237f5f10d13b",
   "metadata": {},
   "source": [
    "In this function, df['Date'].dt.strftime('%A') uses the dt accessor to access the datetime properties of the 'Date' column and then applies the strftime('%A') method to format the dates as weekday names.\n",
    "\n",
    "The %A format code is used to represent the full weekday name, such as 'Sunday', 'Monday', etc.\n",
    "\n",
    "The new column 'Weekday' is assigned the formatted weekday names using df['Weekday'] = ....\n",
    "\n",
    "Here's an example usage of the function:"
   ]
  },
  {
   "cell_type": "code",
   "execution_count": 10,
   "id": "bfe06839-7337-4f39-8586-825a04142e28",
   "metadata": {},
   "outputs": [
    {
     "name": "stdout",
     "output_type": "stream",
     "text": [
      "        Date    Weekday\n",
      "0 2023-01-01     Sunday\n",
      "1 2023-01-02     Monday\n",
      "2 2023-01-03    Tuesday\n",
      "3 2023-01-04  Wednesday\n",
      "4 2023-01-05   Thursday\n"
     ]
    }
   ],
   "source": [
    "# Sample DataFrame\n",
    "df = pd.DataFrame({'Date': pd.date_range(start='2023-01-01', periods=5)})\n",
    "\n",
    "# Adding the 'Weekday' column\n",
    "df_with_weekday = add_weekday_column(df)\n",
    "\n",
    "print(df_with_weekday)\n"
   ]
  },
  {
   "cell_type": "raw",
   "id": "e156d431-60fc-4db4-899d-773f5d9a82e4",
   "metadata": {},
   "source": [
    "Q12. Given a Pandas DataFrame df with a column 'Date' that contains timestamps, write a Python\n",
    "function to select all rows where the date is between '2023-01-01' and '2023-01-31'.\n",
    "\n",
    "Ans--"
   ]
  },
  {
   "cell_type": "markdown",
   "id": "05aace27-b763-42a3-8f35-95084403b01d",
   "metadata": {},
   "source": [
    "To select all rows from a Pandas DataFrame where the date in the 'Date' column falls between '2023-01-01' and '2023-01-31', you can use boolean indexing along with the pd.to_datetime() function. Here's an example of a Python function that achieves this:"
   ]
  },
  {
   "cell_type": "code",
   "execution_count": 13,
   "id": "42a6cf35-139a-454f-bd8c-e76ca28ac4bf",
   "metadata": {},
   "outputs": [],
   "source": [
    "import pandas as pd\n",
    "def select_rows_between_dates(df):\n",
    "    start_date=pd.to_datetime('2023-01-01')\n",
    "    end_date=pd.to_datetime('2023-01-31')\n",
    "    selected_rows=df[(df['Date']>=start_date) & (df['Date']<=end_date)]\n",
    "    return selected_rows"
   ]
  },
  {
   "cell_type": "markdown",
   "id": "d610b8ad-6c1c-47f7-bdc6-12b7880b47b2",
   "metadata": {},
   "source": [
    "In this function, pd.to_datetime('2023-01-01') and pd.to_datetime('2023-01-31') convert the start and end date strings into Pandas Timestamp objects.\n",
    "\n",
    "The boolean indexing df[(df['Date'] >= start_date) & (df['Date'] <= end_date)] selects the rows where the 'Date' falls between the start and end dates, inclusively.\n",
    "\n",
    "The resulting DataFrame selected_rows contains only the selected rows.\n",
    "\n",
    "Here's an example usage of the function:"
   ]
  },
  {
   "cell_type": "code",
   "execution_count": 14,
   "id": "4c663cf2-3eee-423d-bbb8-05065ae1efea",
   "metadata": {},
   "outputs": [
    {
     "name": "stdout",
     "output_type": "stream",
     "text": [
      "         Date\n",
      "0  2023-01-01\n",
      "1  2023-01-02\n",
      "2  2023-01-03\n",
      "3  2023-01-04\n",
      "4  2023-01-05\n",
      "5  2023-01-06\n",
      "6  2023-01-07\n",
      "7  2023-01-08\n",
      "8  2023-01-09\n",
      "9  2023-01-10\n",
      "10 2023-01-11\n",
      "11 2023-01-12\n",
      "12 2023-01-13\n",
      "13 2023-01-14\n",
      "14 2023-01-15\n",
      "15 2023-01-16\n",
      "16 2023-01-17\n",
      "17 2023-01-18\n",
      "18 2023-01-19\n",
      "19 2023-01-20\n",
      "20 2023-01-21\n",
      "21 2023-01-22\n",
      "22 2023-01-23\n",
      "23 2023-01-24\n",
      "24 2023-01-25\n",
      "25 2023-01-26\n",
      "26 2023-01-27\n",
      "27 2023-01-28\n",
      "28 2023-01-29\n",
      "29 2023-01-30\n",
      "30 2023-01-31\n"
     ]
    }
   ],
   "source": [
    "# Sample DataFrame\n",
    "df = pd.DataFrame({'Date': pd.date_range(start='2023-01-01', end='2023-02-28')})\n",
    "\n",
    "# Selecting rows between dates\n",
    "selected_df = select_rows_between_dates(df)\n",
    "\n",
    "print(selected_df)\n"
   ]
  },
  {
   "cell_type": "raw",
   "id": "78bcb660-733f-4369-879b-3f830bb8a57e",
   "metadata": {},
   "source": [
    "Q13. To use the basic functions of pandas, what is the first and foremost necessary library that needs to\n",
    "be imported?\n",
    "\n",
    "Ans--"
   ]
  },
  {
   "cell_type": "markdown",
   "id": "0bc7138c-c327-4ffc-ac7b-5b215781a834",
   "metadata": {},
   "source": [
    "The first and foremost library that needs to be imported to use the basic functions of Pandas is the pandas library itself. The pandas library provides data structures and data analysis tools for handling and manipulating structured data, including the DataFrame object that is widely used for data manipulation.\n",
    "\n",
    "To import the pandas library in Python, you can use the following import statement:\n",
    "\n",
    "import pandas as pd\n",
    "\n",
    "The pd alias is a commonly used convention to refer to the pandas library in Python code. It allows you to use the Pandas functions and classes by prefixing them with pd, such as pd.DataFrame() or pd.read_csv().\n",
    "\n",
    "Once you have imported the pandas library, you can start using its functions and classes to work with tabular data in a DataFrame format and perform various data manipulation and analysis tasks."
   ]
  }
 ],
 "metadata": {
  "kernelspec": {
   "display_name": "Python 3 (ipykernel)",
   "language": "python",
   "name": "python3"
  },
  "language_info": {
   "codemirror_mode": {
    "name": "ipython",
    "version": 3
   },
   "file_extension": ".py",
   "mimetype": "text/x-python",
   "name": "python",
   "nbconvert_exporter": "python",
   "pygments_lexer": "ipython3",
   "version": "3.10.8"
  }
 },
 "nbformat": 4,
 "nbformat_minor": 5
}
